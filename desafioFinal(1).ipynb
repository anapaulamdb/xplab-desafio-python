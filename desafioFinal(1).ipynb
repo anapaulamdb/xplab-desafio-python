{
  "nbformat": 4,
  "nbformat_minor": 0,
  "metadata": {
    "colab": {
      "name": "desafioFinal.ipynb",
      "provenance": [],
      "collapsed_sections": []
    },
    "kernelspec": {
      "name": "python3",
      "display_name": "Python 3"
    }
  },
  "cells": [
    {
      "cell_type": "code",
      "metadata": {
        "id": "_GyKcCODMM9v",
        "colab_type": "code",
        "colab": {}
      },
      "source": [
        "#importação da biblioteca pandas\n",
        "import pandas as pd "
      ],
      "execution_count": null,
      "outputs": []
    },
    {
      "cell_type": "code",
      "metadata": {
        "id": "AyDXDdFAFthI",
        "colab_type": "code",
        "colab": {}
      },
      "source": [
        "#leitura dos arquivos\n",
        "  #detalhamento.xlsx\n",
        "df_am = pd.read_excel('detalhamento.xlsx', sheet_name = 'AM', skiprows = 1)\n",
        "df_rr = pd.read_excel('detalhamento.xlsx', sheet_name= 'RR', skiprows= 1)\n",
        "df_ro = pd.read_excel('detalhamento.xlsx', sheet_name= 'RO', skiprows= 1)\n",
        "df_ac = pd.read_excel('detalhamento.xlsx', sheet_name= 'AC', skiprows= 1)\n",
        "  #vendas.csv\n",
        "df_vendas = pd.read_csv('vendas.csv', sep= '|', skiprows= 0, encoding =  'utf-8')"
      ],
      "execution_count": null,
      "outputs": []
    },
    {
      "cell_type": "code",
      "metadata": {
        "id": "jAnlnUVLRAvO",
        "colab_type": "code",
        "colab": {}
      },
      "source": [
        "#tratamento de dados\n",
        "  #renomear colunas\n",
        "df_am.columns = ['loja', 'escritorio', 'uf', 'operadora', 'valor_bruto' ]\n",
        "df_rr.columns = ['loja', 'escritorio', 'uf', 'operadora', 'valor_bruto' ]\n",
        "df_ro.columns = ['loja', 'escritorio', 'uf', 'operadora', 'valor_bruto' ]\n",
        "df_ac.columns = ['loja', 'escritorio', 'uf', 'operadora', 'valor_bruto' ]\n",
        "df_vendas.columns = ['escritorio', 'operadora', 'material', 'data', 'valor_liquido' ]"
      ],
      "execution_count": null,
      "outputs": []
    },
    {
      "cell_type": "code",
      "metadata": {
        "id": "P3iqeCV_PLmN",
        "colab_type": "code",
        "colab": {}
      },
      "source": [
        "  #verificar tipos \n",
        "    # - escolhi somente uma para exemplificar e o código não ficar tão grande\n",
        "  df_am.dtypes"
      ],
      "execution_count": null,
      "outputs": []
    },
    {
      "cell_type": "code",
      "metadata": {
        "id": "8fqCNjwScBd-",
        "colab_type": "code",
        "colab": {}
      },
      "source": [
        "#alteração do campo 'valor_bruto' para float\n",
        "df_am['valor_bruto'] = df_am['valor_bruto'].astype(float)\n",
        "df_rr['valor_bruto'] = df_rr['valor_bruto'].astype(float)\n",
        "df_ro['valor_bruto'] = df_ro['valor_bruto'].astype(float)\n",
        "df_ac['valor_bruto'] = df_ac['valor_bruto'].astype(float)"
      ],
      "execution_count": null,
      "outputs": []
    },
    {
      "cell_type": "code",
      "metadata": {
        "id": "mBYtfHBUdmJ6",
        "colab_type": "code",
        "colab": {}
      },
      "source": [
        "#deletar dados\n",
        "df_am = df_am.drop(['uf'], axis = 'columns')\n",
        "df_rr = df_rr.drop(['uf'], axis = 'columns')\n",
        "df_ro = df_ro.drop(['uf'], axis = 'columns')\n",
        "df_ac = df_ac.drop(['uf'], axis = 'columns')"
      ],
      "execution_count": null,
      "outputs": []
    },
    {
      "cell_type": "code",
      "metadata": {
        "id": "AHBlZMCJiWP0",
        "colab_type": "code",
        "colab": {}
      },
      "source": [
        "df_vendas = df_vendas.drop(['material', 'data'], axis = 'columns')"
      ],
      "execution_count": null,
      "outputs": []
    },
    {
      "cell_type": "code",
      "metadata": {
        "id": "7hmpbQ0fkljf",
        "colab_type": "code",
        "colab": {}
      },
      "source": [
        "#concatenar tabelas\n",
        "df_geral = pd.concat([df_am, df_rr, df_ro, df_ac])"
      ],
      "execution_count": null,
      "outputs": []
    },
    {
      "cell_type": "code",
      "metadata": {
        "id": "xBuOSGJtoEY1",
        "colab_type": "code",
        "colab": {}
      },
      "source": [
        "df_geral = df_geral.reset_index(drop = True) #resetando o index"
      ],
      "execution_count": null,
      "outputs": []
    },
    {
      "cell_type": "code",
      "metadata": {
        "id": "-TMtmi1QvE9g",
        "colab_type": "code",
        "colab": {}
      },
      "source": [
        "#agrupamento de dados\n",
        "df_vendas = df_vendas.groupby(['operadora', 'escritorio']).agg({'valor_liquido':'sum'}).reset_index()"
      ],
      "execution_count": null,
      "outputs": []
    },
    {
      "cell_type": "code",
      "metadata": {
        "id": "aSlXRtJLjI8y",
        "colab_type": "code",
        "colab": {}
      },
      "source": [
        "#correlação de tabelas\n",
        "df_relatorio = pd.merge(df_geral, df_vendas, on = ['escritorio', 'operadora'], how = 'left')"
      ],
      "execution_count": null,
      "outputs": []
    },
    {
      "cell_type": "code",
      "metadata": {
        "id": "7C7A-D93P3Ho",
        "colab_type": "code",
        "colab": {}
      },
      "source": [
        "#regras de negócio\n",
        "def status(v_bruto, v_liquido):\n",
        "  if (v_bruto != v_liquido):\n",
        "    return 'Dados divergentes'\n",
        "  else: \n",
        "    return ' '"
      ],
      "execution_count": null,
      "outputs": []
    },
    {
      "cell_type": "code",
      "metadata": {
        "id": "sJj2mLM-RBi2",
        "colab_type": "code",
        "colab": {}
      },
      "source": [
        "df_relatorio['status'] = df_relatorio.apply(lambda row: status(row['valor_bruto'], row['valor_liquido']), axis = 'columns')"
      ],
      "execution_count": null,
      "outputs": []
    },
    {
      "cell_type": "code",
      "metadata": {
        "id": "pxy4tnzIkZBc",
        "colab_type": "code",
        "colab": {}
      },
      "source": [
        "df_relatoriofinal = df_relatorio[['loja', 'operadora', 'valor_liquido', 'valor_bruto', 'status']].copy()"
      ],
      "execution_count": null,
      "outputs": []
    },
    {
      "cell_type": "code",
      "metadata": {
        "id": "lEIvzvvKcOF0",
        "colab_type": "code",
        "colab": {}
      },
      "source": [
        "#exportar dados .XLSX\n",
        "writer = pd.ExcelWriter('Relatorio_Final.xlsx')\n",
        "df_relatoriofinal.to_excel(writer, sheet_name = 'relatorio', index = False)\n",
        "writer.save()"
      ],
      "execution_count": null,
      "outputs": []
    }
  ]
}