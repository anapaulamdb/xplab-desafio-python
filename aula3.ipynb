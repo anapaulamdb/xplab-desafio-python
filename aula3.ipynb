{
  "nbformat": 4,
  "nbformat_minor": 0,
  "metadata": {
    "colab": {
      "name": "aula3.ipynb",
      "provenance": [],
      "collapsed_sections": [],
      "authorship_tag": "ABX9TyNrM+D4isjn41ldByS3C9Eb",
      "include_colab_link": true
    },
    "kernelspec": {
      "name": "python3",
      "display_name": "Python 3"
    }
  },
  "cells": [
    {
      "cell_type": "markdown",
      "metadata": {
        "id": "view-in-github",
        "colab_type": "text"
      },
      "source": [
        "<a href=\"https://colab.research.google.com/github/anapaulamdb/xplab-desafio-python/blob/master/aula3.ipynb\" target=\"_parent\"><img src=\"https://colab.research.google.com/assets/colab-badge.svg\" alt=\"Open In Colab\"/></a>"
      ]
    },
    {
      "cell_type": "markdown",
      "metadata": {
        "id": "SKRrJbs5Rui3"
      },
      "source": [
        "# **Manipulação de dados**"
      ]
    },
    {
      "cell_type": "code",
      "metadata": {
        "id": "qSWJvWn7R3sU"
      },
      "source": [
        "import pandas as pd #importação da biblioteca"
      ],
      "execution_count": null,
      "outputs": []
    },
    {
      "cell_type": "markdown",
      "metadata": {
        "id": "GVdO7sqTTVla"
      },
      "source": [
        "pd.read_csv(**string**, sep = **string**, skiprows = **int**, encoding = **string específica**)"
      ]
    },
    {
      "cell_type": "markdown",
      "metadata": {
        "id": "6VeWAOFRS14L"
      },
      "source": [
        "## Arquivos CSV e TXT"
      ]
    },
    {
      "cell_type": "markdown",
      "metadata": {
        "id": "Vj14vm03UPd6"
      },
      "source": [
        "1. **string** -> nome do arquivo\n",
        "2. **string** -> string que separa os dados no arquivo\n",
        "3. **int** -> quantidade de linhas a serem puladas\n",
        "4. **string específica** -> como o arquivo está codificado : utf-8 ou latin-1\n"
      ]
    },
    {
      "cell_type": "code",
      "metadata": {
        "id": "3WegAxEBU58Z"
      },
      "source": [
        "df_materiais = pd.read_csv('materiais.csv', sep = ';', skiprows = 0, encoding = 'utf-8')"
      ],
      "execution_count": null,
      "outputs": []
    },
    {
      "cell_type": "code",
      "metadata": {
        "id": "yKw-2PREabzQ",
        "outputId": "0a60b244-1ddd-4597-87dd-750ee82f34fe",
        "colab": {
          "base_uri": "https://localhost:8080/",
          "height": 424
        }
      },
      "source": [
        "df_materiais"
      ],
      "execution_count": null,
      "outputs": [
        {
          "output_type": "execute_result",
          "data": {
            "text/html": [
              "<div>\n",
              "<style scoped>\n",
              "    .dataframe tbody tr th:only-of-type {\n",
              "        vertical-align: middle;\n",
              "    }\n",
              "\n",
              "    .dataframe tbody tr th {\n",
              "        vertical-align: top;\n",
              "    }\n",
              "\n",
              "    .dataframe thead th {\n",
              "        text-align: right;\n",
              "    }\n",
              "</style>\n",
              "<table border=\"1\" class=\"dataframe\">\n",
              "  <thead>\n",
              "    <tr style=\"text-align: right;\">\n",
              "      <th></th>\n",
              "      <th>Material</th>\n",
              "      <th>Texto breve material</th>\n",
              "    </tr>\n",
              "  </thead>\n",
              "  <tbody>\n",
              "    <tr>\n",
              "      <th>0</th>\n",
              "      <td>4000010</td>\n",
              "      <td>ALCACHOFRA 300MG</td>\n",
              "    </tr>\n",
              "    <tr>\n",
              "      <th>1</th>\n",
              "      <td>4000013</td>\n",
              "      <td>ANTI-SEPTICO ANESTESICO</td>\n",
              "    </tr>\n",
              "    <tr>\n",
              "      <th>2</th>\n",
              "      <td>4000014</td>\n",
              "      <td>ASSEPTCARE SOL</td>\n",
              "    </tr>\n",
              "    <tr>\n",
              "      <th>3</th>\n",
              "      <td>4000015</td>\n",
              "      <td>ASSEPTCARE SOL</td>\n",
              "    </tr>\n",
              "    <tr>\n",
              "      <th>4</th>\n",
              "      <td>4000016</td>\n",
              "      <td>BENATUX FRAMBOESA</td>\n",
              "    </tr>\n",
              "    <tr>\n",
              "      <th>...</th>\n",
              "      <td>...</td>\n",
              "      <td>...</td>\n",
              "    </tr>\n",
              "    <tr>\n",
              "      <th>4577</th>\n",
              "      <td>6001409</td>\n",
              "      <td>SABONETE LIQ</td>\n",
              "    </tr>\n",
              "    <tr>\n",
              "      <th>4578</th>\n",
              "      <td>6001410</td>\n",
              "      <td>SABONETE LIQ</td>\n",
              "    </tr>\n",
              "    <tr>\n",
              "      <th>4579</th>\n",
              "      <td>6001411</td>\n",
              "      <td>TÔNICO NIVEA</td>\n",
              "    </tr>\n",
              "    <tr>\n",
              "      <th>4580</th>\n",
              "      <td>6001412</td>\n",
              "      <td>TÔNICO NIVEA</td>\n",
              "    </tr>\n",
              "    <tr>\n",
              "      <th>4581</th>\n",
              "      <td>6001415</td>\n",
              "      <td>CHOCOLATE KINDER</td>\n",
              "    </tr>\n",
              "  </tbody>\n",
              "</table>\n",
              "<p>4582 rows × 2 columns</p>\n",
              "</div>"
            ],
            "text/plain": [
              "      Material     Texto breve material\n",
              "0      4000010         ALCACHOFRA 300MG\n",
              "1      4000013  ANTI-SEPTICO ANESTESICO\n",
              "2      4000014           ASSEPTCARE SOL\n",
              "3      4000015           ASSEPTCARE SOL\n",
              "4      4000016        BENATUX FRAMBOESA\n",
              "...        ...                      ...\n",
              "4577   6001409             SABONETE LIQ\n",
              "4578   6001410             SABONETE LIQ\n",
              "4579   6001411             TÔNICO NIVEA\n",
              "4580   6001412             TÔNICO NIVEA\n",
              "4581   6001415         CHOCOLATE KINDER\n",
              "\n",
              "[4582 rows x 2 columns]"
            ]
          },
          "metadata": {
            "tags": []
          },
          "execution_count": 3
        }
      ]
    },
    {
      "cell_type": "code",
      "metadata": {
        "id": "3lCe_qOOWt8k",
        "outputId": "8418547d-223b-4ef5-e455-e5c0a3585de9",
        "colab": {
          "base_uri": "https://localhost:8080/",
          "height": 36
        }
      },
      "source": [
        "df_materiais['Material'].loc[0]"
      ],
      "execution_count": null,
      "outputs": [
        {
          "output_type": "execute_result",
          "data": {
            "text/plain": [
              "4000010"
            ]
          },
          "metadata": {
            "tags": []
          },
          "execution_count": 4
        }
      ]
    },
    {
      "cell_type": "code",
      "metadata": {
        "id": "GYBTxAiwXFJ2"
      },
      "source": [
        "df_pedidos = pd.read_csv('pedidos.txt', sep = '|', skiprows = 2, encoding = 'latin-1')"
      ],
      "execution_count": null,
      "outputs": []
    },
    {
      "cell_type": "markdown",
      "metadata": {
        "id": "M4bdI1KsXht_"
      },
      "source": [
        "## Arquivos XLSX"
      ]
    },
    {
      "cell_type": "markdown",
      "metadata": {
        "id": "qLnTnvoGXmjf"
      },
      "source": [
        "pd.read_excel( **string**, sheet_name = **string** ou **int**, skiprows = **int**)"
      ]
    },
    {
      "cell_type": "markdown",
      "metadata": {
        "id": "7I5_mJi_YFXq"
      },
      "source": [
        "1. **string** -> nome do arquivo\n",
        "2. **string** ou **int** -> nome da aba do excel\n",
        "3. **int** -> numero de linhas a serem puladas"
      ]
    },
    {
      "cell_type": "code",
      "metadata": {
        "id": "7YyAQVHzYYAf"
      },
      "source": [
        "df_vendas1 = pd.read_excel('vendas_1.xlsx', sheet_name = 'vendas', skiprows = 0)"
      ],
      "execution_count": null,
      "outputs": []
    },
    {
      "cell_type": "code",
      "metadata": {
        "id": "w1FF6v9kN2J4",
        "outputId": "cc83152e-5859-4416-c39f-5a98ddae54cf",
        "colab": {
          "base_uri": "https://localhost:8080/",
          "height": 424
        }
      },
      "source": [
        "df_vendas1"
      ],
      "execution_count": null,
      "outputs": [
        {
          "output_type": "execute_result",
          "data": {
            "text/html": [
              "<div>\n",
              "<style scoped>\n",
              "    .dataframe tbody tr th:only-of-type {\n",
              "        vertical-align: middle;\n",
              "    }\n",
              "\n",
              "    .dataframe tbody tr th {\n",
              "        vertical-align: top;\n",
              "    }\n",
              "\n",
              "    .dataframe thead th {\n",
              "        text-align: right;\n",
              "    }\n",
              "</style>\n",
              "<table border=\"1\" class=\"dataframe\">\n",
              "  <thead>\n",
              "    <tr style=\"text-align: right;\">\n",
              "      <th></th>\n",
              "      <th>Data</th>\n",
              "      <th>Material</th>\n",
              "      <th>Qtd.faturd</th>\n",
              "    </tr>\n",
              "  </thead>\n",
              "  <tbody>\n",
              "    <tr>\n",
              "      <th>0</th>\n",
              "      <td>25-04-2020</td>\n",
              "      <td>6000110</td>\n",
              "      <td>1</td>\n",
              "    </tr>\n",
              "    <tr>\n",
              "      <th>1</th>\n",
              "      <td>25-04-2020</td>\n",
              "      <td>6000129</td>\n",
              "      <td>1</td>\n",
              "    </tr>\n",
              "    <tr>\n",
              "      <th>2</th>\n",
              "      <td>25-04-2020</td>\n",
              "      <td>6000163</td>\n",
              "      <td>1</td>\n",
              "    </tr>\n",
              "    <tr>\n",
              "      <th>3</th>\n",
              "      <td>25-04-2020</td>\n",
              "      <td>6000172</td>\n",
              "      <td>1</td>\n",
              "    </tr>\n",
              "    <tr>\n",
              "      <th>4</th>\n",
              "      <td>25-04-2020</td>\n",
              "      <td>6000892</td>\n",
              "      <td>1</td>\n",
              "    </tr>\n",
              "    <tr>\n",
              "      <th>...</th>\n",
              "      <td>...</td>\n",
              "      <td>...</td>\n",
              "      <td>...</td>\n",
              "    </tr>\n",
              "    <tr>\n",
              "      <th>8652</th>\n",
              "      <td>27-04-2020</td>\n",
              "      <td>4005739</td>\n",
              "      <td>1</td>\n",
              "    </tr>\n",
              "    <tr>\n",
              "      <th>8653</th>\n",
              "      <td>27-04-2020</td>\n",
              "      <td>4005739</td>\n",
              "      <td>1</td>\n",
              "    </tr>\n",
              "    <tr>\n",
              "      <th>8654</th>\n",
              "      <td>27-04-2020</td>\n",
              "      <td>4005903</td>\n",
              "      <td>1</td>\n",
              "    </tr>\n",
              "    <tr>\n",
              "      <th>8655</th>\n",
              "      <td>27-04-2020</td>\n",
              "      <td>4005911</td>\n",
              "      <td>1</td>\n",
              "    </tr>\n",
              "    <tr>\n",
              "      <th>8656</th>\n",
              "      <td>27-04-2020</td>\n",
              "      <td>4005927</td>\n",
              "      <td>1</td>\n",
              "    </tr>\n",
              "  </tbody>\n",
              "</table>\n",
              "<p>8657 rows × 3 columns</p>\n",
              "</div>"
            ],
            "text/plain": [
              "            Data  Material  Qtd.faturd\n",
              "0     25-04-2020   6000110           1\n",
              "1     25-04-2020   6000129           1\n",
              "2     25-04-2020   6000163           1\n",
              "3     25-04-2020   6000172           1\n",
              "4     25-04-2020   6000892           1\n",
              "...          ...       ...         ...\n",
              "8652  27-04-2020   4005739           1\n",
              "8653  27-04-2020   4005739           1\n",
              "8654  27-04-2020   4005903           1\n",
              "8655  27-04-2020   4005911           1\n",
              "8656  27-04-2020   4005927           1\n",
              "\n",
              "[8657 rows x 3 columns]"
            ]
          },
          "metadata": {
            "tags": []
          },
          "execution_count": 7
        }
      ]
    },
    {
      "cell_type": "code",
      "metadata": {
        "id": "dU-Tr5g7Y6Y2"
      },
      "source": [
        "df_vendas2 = pd.read_excel('vendas_2.xlsx', sheet_name = 0, skiprows = 0)"
      ],
      "execution_count": null,
      "outputs": []
    },
    {
      "cell_type": "markdown",
      "metadata": {
        "id": "RfGH_dJAZTnv"
      },
      "source": [
        "# Tratamento de dados"
      ]
    },
    {
      "cell_type": "markdown",
      "metadata": {
        "id": "IJEES53WZZVB"
      },
      "source": [
        "## Renomeando colunas"
      ]
    },
    {
      "cell_type": "markdown",
      "metadata": {
        "id": "Ku_AEAbGZ0wM"
      },
      "source": [
        "dataframe.rename(columns=**dict**)"
      ]
    },
    {
      "cell_type": "markdown",
      "metadata": {
        "id": "ITxWpCYuZ-e3"
      },
      "source": [
        "1. **dict** = {'coluna_antiga': 'coluna_nova'}"
      ]
    },
    {
      "cell_type": "code",
      "metadata": {
        "id": "a0UVlM_0aKcR"
      },
      "source": [
        "df_materiais = df_materiais.rename(columns={'Material': 'material', 'Texto breve material': 'texto_breve' })"
      ],
      "execution_count": null,
      "outputs": []
    },
    {
      "cell_type": "markdown",
      "metadata": {
        "id": "6u2qiBxMa2_m"
      },
      "source": [
        "dataframe.columns = **lista**"
      ]
    },
    {
      "cell_type": "markdown",
      "metadata": {
        "id": "kcMaNcMebAse"
      },
      "source": [
        "1. **lista** = ['coluna_nova']"
      ]
    },
    {
      "cell_type": "code",
      "metadata": {
        "id": "qgdiiE_0a_ku"
      },
      "source": [
        "df_pedidos.columns = ['cod_fornecedor', 'material', 'qtd_pedido', 'texto_breve', 'qtd_estoque']"
      ],
      "execution_count": null,
      "outputs": []
    },
    {
      "cell_type": "code",
      "metadata": {
        "id": "vu4rB-ISbkVw",
        "outputId": "1ba1906f-0e65-46b8-e3be-e4476d55becd",
        "colab": {
          "base_uri": "https://localhost:8080/",
          "height": 424
        }
      },
      "source": [
        "df_materiais"
      ],
      "execution_count": null,
      "outputs": [
        {
          "output_type": "execute_result",
          "data": {
            "text/html": [
              "<div>\n",
              "<style scoped>\n",
              "    .dataframe tbody tr th:only-of-type {\n",
              "        vertical-align: middle;\n",
              "    }\n",
              "\n",
              "    .dataframe tbody tr th {\n",
              "        vertical-align: top;\n",
              "    }\n",
              "\n",
              "    .dataframe thead th {\n",
              "        text-align: right;\n",
              "    }\n",
              "</style>\n",
              "<table border=\"1\" class=\"dataframe\">\n",
              "  <thead>\n",
              "    <tr style=\"text-align: right;\">\n",
              "      <th></th>\n",
              "      <th>material</th>\n",
              "      <th>texto_breve</th>\n",
              "    </tr>\n",
              "  </thead>\n",
              "  <tbody>\n",
              "    <tr>\n",
              "      <th>0</th>\n",
              "      <td>4000010</td>\n",
              "      <td>ALCACHOFRA 300MG</td>\n",
              "    </tr>\n",
              "    <tr>\n",
              "      <th>1</th>\n",
              "      <td>4000013</td>\n",
              "      <td>ANTI-SEPTICO ANESTESICO</td>\n",
              "    </tr>\n",
              "    <tr>\n",
              "      <th>2</th>\n",
              "      <td>4000014</td>\n",
              "      <td>ASSEPTCARE SOL</td>\n",
              "    </tr>\n",
              "    <tr>\n",
              "      <th>3</th>\n",
              "      <td>4000015</td>\n",
              "      <td>ASSEPTCARE SOL</td>\n",
              "    </tr>\n",
              "    <tr>\n",
              "      <th>4</th>\n",
              "      <td>4000016</td>\n",
              "      <td>BENATUX FRAMBOESA</td>\n",
              "    </tr>\n",
              "    <tr>\n",
              "      <th>...</th>\n",
              "      <td>...</td>\n",
              "      <td>...</td>\n",
              "    </tr>\n",
              "    <tr>\n",
              "      <th>4577</th>\n",
              "      <td>6001409</td>\n",
              "      <td>SABONETE LIQ</td>\n",
              "    </tr>\n",
              "    <tr>\n",
              "      <th>4578</th>\n",
              "      <td>6001410</td>\n",
              "      <td>SABONETE LIQ</td>\n",
              "    </tr>\n",
              "    <tr>\n",
              "      <th>4579</th>\n",
              "      <td>6001411</td>\n",
              "      <td>TÔNICO NIVEA</td>\n",
              "    </tr>\n",
              "    <tr>\n",
              "      <th>4580</th>\n",
              "      <td>6001412</td>\n",
              "      <td>TÔNICO NIVEA</td>\n",
              "    </tr>\n",
              "    <tr>\n",
              "      <th>4581</th>\n",
              "      <td>6001415</td>\n",
              "      <td>CHOCOLATE KINDER</td>\n",
              "    </tr>\n",
              "  </tbody>\n",
              "</table>\n",
              "<p>4582 rows × 2 columns</p>\n",
              "</div>"
            ],
            "text/plain": [
              "      material              texto_breve\n",
              "0      4000010         ALCACHOFRA 300MG\n",
              "1      4000013  ANTI-SEPTICO ANESTESICO\n",
              "2      4000014           ASSEPTCARE SOL\n",
              "3      4000015           ASSEPTCARE SOL\n",
              "4      4000016        BENATUX FRAMBOESA\n",
              "...        ...                      ...\n",
              "4577   6001409             SABONETE LIQ\n",
              "4578   6001410             SABONETE LIQ\n",
              "4579   6001411             TÔNICO NIVEA\n",
              "4580   6001412             TÔNICO NIVEA\n",
              "4581   6001415         CHOCOLATE KINDER\n",
              "\n",
              "[4582 rows x 2 columns]"
            ]
          },
          "metadata": {
            "tags": []
          },
          "execution_count": 11
        }
      ]
    },
    {
      "cell_type": "code",
      "metadata": {
        "id": "zkmtpbFhbrXq"
      },
      "source": [
        "df_vendas1.columns = ['data', 'material', 'qtd_vendas']"
      ],
      "execution_count": null,
      "outputs": []
    },
    {
      "cell_type": "code",
      "metadata": {
        "id": "1hfPfI06b5A4"
      },
      "source": [
        "df_vendas2.columns = ['data', 'material', 'qtd_vendas']"
      ],
      "execution_count": null,
      "outputs": []
    },
    {
      "cell_type": "markdown",
      "metadata": {
        "id": "z6YvmzWqcQ6n"
      },
      "source": [
        "##Deletanto Colunas"
      ]
    },
    {
      "cell_type": "markdown",
      "metadata": {
        "id": "ITsUMgUlcezy"
      },
      "source": [
        "dataframe.drop( **lista**, axis = **string especifica** ou **int**)"
      ]
    },
    {
      "cell_type": "markdown",
      "metadata": {
        "id": "agE-HuQwcqhw"
      },
      "source": [
        "1. **lista** -> lista de nomes de colunas ou index de linhas a serem deletados\n",
        "2. **string especifica** ou **int** -> 'columns' ou 'index'\n"
      ]
    },
    {
      "cell_type": "code",
      "metadata": {
        "id": "ZzAi5Z0GdBnB"
      },
      "source": [
        "df_materiais = df_materiais.drop(['texto_breve'], axis ='columns')"
      ],
      "execution_count": null,
      "outputs": []
    },
    {
      "cell_type": "code",
      "metadata": {
        "id": "pv3prSHldotK",
        "outputId": "c74e5913-3783-4ac8-934d-9e6cbb8736a0",
        "colab": {
          "base_uri": "https://localhost:8080/",
          "height": 424
        }
      },
      "source": [
        "df_materiais"
      ],
      "execution_count": null,
      "outputs": [
        {
          "output_type": "execute_result",
          "data": {
            "text/html": [
              "<div>\n",
              "<style scoped>\n",
              "    .dataframe tbody tr th:only-of-type {\n",
              "        vertical-align: middle;\n",
              "    }\n",
              "\n",
              "    .dataframe tbody tr th {\n",
              "        vertical-align: top;\n",
              "    }\n",
              "\n",
              "    .dataframe thead th {\n",
              "        text-align: right;\n",
              "    }\n",
              "</style>\n",
              "<table border=\"1\" class=\"dataframe\">\n",
              "  <thead>\n",
              "    <tr style=\"text-align: right;\">\n",
              "      <th></th>\n",
              "      <th>material</th>\n",
              "    </tr>\n",
              "  </thead>\n",
              "  <tbody>\n",
              "    <tr>\n",
              "      <th>0</th>\n",
              "      <td>4000010</td>\n",
              "    </tr>\n",
              "    <tr>\n",
              "      <th>1</th>\n",
              "      <td>4000013</td>\n",
              "    </tr>\n",
              "    <tr>\n",
              "      <th>2</th>\n",
              "      <td>4000014</td>\n",
              "    </tr>\n",
              "    <tr>\n",
              "      <th>3</th>\n",
              "      <td>4000015</td>\n",
              "    </tr>\n",
              "    <tr>\n",
              "      <th>4</th>\n",
              "      <td>4000016</td>\n",
              "    </tr>\n",
              "    <tr>\n",
              "      <th>...</th>\n",
              "      <td>...</td>\n",
              "    </tr>\n",
              "    <tr>\n",
              "      <th>4577</th>\n",
              "      <td>6001409</td>\n",
              "    </tr>\n",
              "    <tr>\n",
              "      <th>4578</th>\n",
              "      <td>6001410</td>\n",
              "    </tr>\n",
              "    <tr>\n",
              "      <th>4579</th>\n",
              "      <td>6001411</td>\n",
              "    </tr>\n",
              "    <tr>\n",
              "      <th>4580</th>\n",
              "      <td>6001412</td>\n",
              "    </tr>\n",
              "    <tr>\n",
              "      <th>4581</th>\n",
              "      <td>6001415</td>\n",
              "    </tr>\n",
              "  </tbody>\n",
              "</table>\n",
              "<p>4582 rows × 1 columns</p>\n",
              "</div>"
            ],
            "text/plain": [
              "      material\n",
              "0      4000010\n",
              "1      4000013\n",
              "2      4000014\n",
              "3      4000015\n",
              "4      4000016\n",
              "...        ...\n",
              "4577   6001409\n",
              "4578   6001410\n",
              "4579   6001411\n",
              "4580   6001412\n",
              "4581   6001415\n",
              "\n",
              "[4582 rows x 1 columns]"
            ]
          },
          "metadata": {
            "tags": []
          },
          "execution_count": 15
        }
      ]
    },
    {
      "cell_type": "markdown",
      "metadata": {
        "id": "TM9paOX2fCDg"
      },
      "source": [
        "dataframe[**lista**].copy()"
      ]
    },
    {
      "cell_type": "markdown",
      "metadata": {
        "id": "0BrQuQ6FfFgm"
      },
      "source": [
        "1. **lista** = ['colunas a manter']"
      ]
    },
    {
      "cell_type": "code",
      "metadata": {
        "id": "0iWgjPpwf9nn"
      },
      "source": [
        "df_pedidos = df_pedidos[['material', 'qtd_pedido', 'qtd_estoque']].copy()"
      ],
      "execution_count": null,
      "outputs": []
    },
    {
      "cell_type": "code",
      "metadata": {
        "id": "Cvijb961gtHv"
      },
      "source": [
        "df_vendas1 = df_vendas1[['material', 'qtd_vendas']].copy()"
      ],
      "execution_count": null,
      "outputs": []
    },
    {
      "cell_type": "code",
      "metadata": {
        "id": "T3F1LzRMhAJL"
      },
      "source": [
        "df_vendas2 = df_vendas2.drop(['data'], axis = 'columns')"
      ],
      "execution_count": null,
      "outputs": []
    },
    {
      "cell_type": "markdown",
      "metadata": {
        "id": "GtCmNFF_hWGj"
      },
      "source": [
        "## Verificando tipos de colunas"
      ]
    },
    {
      "cell_type": "markdown",
      "metadata": {
        "id": "pjuNmpR6haCk"
      },
      "source": [
        "dataframe.dtypes - para verificas tipos de todas as colunas\n",
        "dataframs['coluna'].dtype"
      ]
    },
    {
      "cell_type": "code",
      "metadata": {
        "id": "3O7rafsAhtvl",
        "outputId": "9777b6e4-dfe8-4071-c616-f99192f4953d",
        "colab": {
          "base_uri": "https://localhost:8080/",
          "height": 54
        }
      },
      "source": [
        "df_materiais.dtypes"
      ],
      "execution_count": null,
      "outputs": [
        {
          "output_type": "execute_result",
          "data": {
            "text/plain": [
              "material    int64\n",
              "dtype: object"
            ]
          },
          "metadata": {
            "tags": []
          },
          "execution_count": 19
        }
      ]
    },
    {
      "cell_type": "code",
      "metadata": {
        "id": "Y59NL3x4iEb9",
        "outputId": "31bc7457-c45e-4e65-95c5-604fc78044b0",
        "colab": {
          "base_uri": "https://localhost:8080/",
          "height": 91
        }
      },
      "source": [
        "df_pedidos.dtypes"
      ],
      "execution_count": null,
      "outputs": [
        {
          "output_type": "execute_result",
          "data": {
            "text/plain": [
              "material       float64\n",
              "qtd_pedido       int64\n",
              "qtd_estoque      int64\n",
              "dtype: object"
            ]
          },
          "metadata": {
            "tags": []
          },
          "execution_count": 20
        }
      ]
    },
    {
      "cell_type": "markdown",
      "metadata": {
        "id": "XIu2oawni-EO"
      },
      "source": [
        "## Alterando tipos de colunas"
      ]
    },
    {
      "cell_type": "markdown",
      "metadata": {
        "id": "82sVcppUjDSr"
      },
      "source": [
        "*para apenas uma coluna:*\n",
        "dataframe['coluna'].astype(**palavra reservada**)\n",
        "\n",
        "*para mais de uma coluna:* \n",
        "dataframe[['coluna1', 'coluna2']].astype(novo_tipo)"
      ]
    },
    {
      "cell_type": "markdown",
      "metadata": {
        "id": "lw9kDFFhjNjX"
      },
      "source": [
        "1. **palavra reservada** -> str, int, float ou bool"
      ]
    },
    {
      "cell_type": "code",
      "metadata": {
        "id": "6iEAWlJCjXMH"
      },
      "source": [
        "df_pedidos['material'] = df_pedidos['material'].astype(int)"
      ],
      "execution_count": null,
      "outputs": []
    },
    {
      "cell_type": "markdown",
      "metadata": {
        "id": "WDGHjdl-lP00"
      },
      "source": [
        "## Concatenação de tabelas"
      ]
    },
    {
      "cell_type": "markdown",
      "metadata": {
        "id": "S_Y215qNlVZn"
      },
      "source": [
        "pd.concat([**lista**])"
      ]
    },
    {
      "cell_type": "markdown",
      "metadata": {
        "id": "7LSVrODwleMu"
      },
      "source": [
        "1. **lista** -> lista de dataframes"
      ]
    },
    {
      "cell_type": "code",
      "metadata": {
        "id": "vwECm2dxlnHM"
      },
      "source": [
        "df_vendas = pd.concat([df_vendas1, df_vendas2])"
      ],
      "execution_count": null,
      "outputs": []
    },
    {
      "cell_type": "code",
      "metadata": {
        "id": "AMkpxUubl6PY",
        "outputId": "3725062a-e27c-404e-8b53-ce2c32a1b787",
        "colab": {
          "base_uri": "https://localhost:8080/",
          "height": 424
        }
      },
      "source": [
        "df_vendas"
      ],
      "execution_count": null,
      "outputs": [
        {
          "output_type": "execute_result",
          "data": {
            "text/html": [
              "<div>\n",
              "<style scoped>\n",
              "    .dataframe tbody tr th:only-of-type {\n",
              "        vertical-align: middle;\n",
              "    }\n",
              "\n",
              "    .dataframe tbody tr th {\n",
              "        vertical-align: top;\n",
              "    }\n",
              "\n",
              "    .dataframe thead th {\n",
              "        text-align: right;\n",
              "    }\n",
              "</style>\n",
              "<table border=\"1\" class=\"dataframe\">\n",
              "  <thead>\n",
              "    <tr style=\"text-align: right;\">\n",
              "      <th></th>\n",
              "      <th>material</th>\n",
              "      <th>qtd_vendas</th>\n",
              "    </tr>\n",
              "  </thead>\n",
              "  <tbody>\n",
              "    <tr>\n",
              "      <th>0</th>\n",
              "      <td>6000110</td>\n",
              "      <td>1</td>\n",
              "    </tr>\n",
              "    <tr>\n",
              "      <th>1</th>\n",
              "      <td>6000129</td>\n",
              "      <td>1</td>\n",
              "    </tr>\n",
              "    <tr>\n",
              "      <th>2</th>\n",
              "      <td>6000163</td>\n",
              "      <td>1</td>\n",
              "    </tr>\n",
              "    <tr>\n",
              "      <th>3</th>\n",
              "      <td>6000172</td>\n",
              "      <td>1</td>\n",
              "    </tr>\n",
              "    <tr>\n",
              "      <th>4</th>\n",
              "      <td>6000892</td>\n",
              "      <td>1</td>\n",
              "    </tr>\n",
              "    <tr>\n",
              "      <th>...</th>\n",
              "      <td>...</td>\n",
              "      <td>...</td>\n",
              "    </tr>\n",
              "    <tr>\n",
              "      <th>8139</th>\n",
              "      <td>6000768</td>\n",
              "      <td>1</td>\n",
              "    </tr>\n",
              "    <tr>\n",
              "      <th>8140</th>\n",
              "      <td>6000839</td>\n",
              "      <td>1</td>\n",
              "    </tr>\n",
              "    <tr>\n",
              "      <th>8141</th>\n",
              "      <td>6000843</td>\n",
              "      <td>1</td>\n",
              "    </tr>\n",
              "    <tr>\n",
              "      <th>8142</th>\n",
              "      <td>6000969</td>\n",
              "      <td>1</td>\n",
              "    </tr>\n",
              "    <tr>\n",
              "      <th>8143</th>\n",
              "      <td>6000400</td>\n",
              "      <td>1</td>\n",
              "    </tr>\n",
              "  </tbody>\n",
              "</table>\n",
              "<p>16801 rows × 2 columns</p>\n",
              "</div>"
            ],
            "text/plain": [
              "      material  qtd_vendas\n",
              "0      6000110           1\n",
              "1      6000129           1\n",
              "2      6000163           1\n",
              "3      6000172           1\n",
              "4      6000892           1\n",
              "...        ...         ...\n",
              "8139   6000768           1\n",
              "8140   6000839           1\n",
              "8141   6000843           1\n",
              "8142   6000969           1\n",
              "8143   6000400           1\n",
              "\n",
              "[16801 rows x 2 columns]"
            ]
          },
          "metadata": {
            "tags": []
          },
          "execution_count": 23
        }
      ]
    },
    {
      "cell_type": "code",
      "metadata": {
        "id": "vDdxD1Fyl_8F",
        "outputId": "0c256e8e-5d58-4d1d-de2b-88e69f8341c7",
        "colab": {
          "base_uri": "https://localhost:8080/",
          "height": 36
        }
      },
      "source": [
        "df_vendas1.shape #mostra a qtd de elementos em uma lista e qtd de colunas"
      ],
      "execution_count": null,
      "outputs": [
        {
          "output_type": "execute_result",
          "data": {
            "text/plain": [
              "(8657, 2)"
            ]
          },
          "metadata": {
            "tags": []
          },
          "execution_count": 24
        }
      ]
    },
    {
      "cell_type": "code",
      "metadata": {
        "id": "nHRZbF8mmf6q",
        "outputId": "66c954bc-32e6-4b3d-898b-bc3a1071b63e",
        "colab": {
          "base_uri": "https://localhost:8080/",
          "height": 73
        }
      },
      "source": [
        "df_vendas['material'].loc[0]"
      ],
      "execution_count": null,
      "outputs": [
        {
          "output_type": "execute_result",
          "data": {
            "text/plain": [
              "0    6000110\n",
              "0    6001085\n",
              "Name: material, dtype: int64"
            ]
          },
          "metadata": {
            "tags": []
          },
          "execution_count": 25
        }
      ]
    },
    {
      "cell_type": "markdown",
      "metadata": {
        "id": "0Gopbe_PmsZ7"
      },
      "source": [
        "### Resetando o index"
      ]
    },
    {
      "cell_type": "markdown",
      "metadata": {
        "id": "JXIw5wVBmvui"
      },
      "source": [
        "Quando há a junção de 2 tabelas, ocorre a duplicação de índices.\n",
        "\n",
        "dataframe.reset_index(drop=**bool**)"
      ]
    },
    {
      "cell_type": "markdown",
      "metadata": {
        "id": "e2FhJ--gnRL3"
      },
      "source": [
        "1. **bool** -> True ou False (os indices antigos são armazenados em uma tabela chamada index)"
      ]
    },
    {
      "cell_type": "code",
      "metadata": {
        "id": "JTsg3ZCtnOb7"
      },
      "source": [
        "df_vendas = df_vendas.reset_index(drop=True)"
      ],
      "execution_count": null,
      "outputs": []
    },
    {
      "cell_type": "code",
      "metadata": {
        "id": "QFRXPl9an8YY",
        "outputId": "59911d7a-486a-44ae-8a1c-aa2b4a33309f",
        "colab": {
          "base_uri": "https://localhost:8080/",
          "height": 424
        }
      },
      "source": [
        "df_vendas"
      ],
      "execution_count": null,
      "outputs": [
        {
          "output_type": "execute_result",
          "data": {
            "text/html": [
              "<div>\n",
              "<style scoped>\n",
              "    .dataframe tbody tr th:only-of-type {\n",
              "        vertical-align: middle;\n",
              "    }\n",
              "\n",
              "    .dataframe tbody tr th {\n",
              "        vertical-align: top;\n",
              "    }\n",
              "\n",
              "    .dataframe thead th {\n",
              "        text-align: right;\n",
              "    }\n",
              "</style>\n",
              "<table border=\"1\" class=\"dataframe\">\n",
              "  <thead>\n",
              "    <tr style=\"text-align: right;\">\n",
              "      <th></th>\n",
              "      <th>material</th>\n",
              "      <th>qtd_vendas</th>\n",
              "    </tr>\n",
              "  </thead>\n",
              "  <tbody>\n",
              "    <tr>\n",
              "      <th>0</th>\n",
              "      <td>6000110</td>\n",
              "      <td>1</td>\n",
              "    </tr>\n",
              "    <tr>\n",
              "      <th>1</th>\n",
              "      <td>6000129</td>\n",
              "      <td>1</td>\n",
              "    </tr>\n",
              "    <tr>\n",
              "      <th>2</th>\n",
              "      <td>6000163</td>\n",
              "      <td>1</td>\n",
              "    </tr>\n",
              "    <tr>\n",
              "      <th>3</th>\n",
              "      <td>6000172</td>\n",
              "      <td>1</td>\n",
              "    </tr>\n",
              "    <tr>\n",
              "      <th>4</th>\n",
              "      <td>6000892</td>\n",
              "      <td>1</td>\n",
              "    </tr>\n",
              "    <tr>\n",
              "      <th>...</th>\n",
              "      <td>...</td>\n",
              "      <td>...</td>\n",
              "    </tr>\n",
              "    <tr>\n",
              "      <th>16796</th>\n",
              "      <td>6000768</td>\n",
              "      <td>1</td>\n",
              "    </tr>\n",
              "    <tr>\n",
              "      <th>16797</th>\n",
              "      <td>6000839</td>\n",
              "      <td>1</td>\n",
              "    </tr>\n",
              "    <tr>\n",
              "      <th>16798</th>\n",
              "      <td>6000843</td>\n",
              "      <td>1</td>\n",
              "    </tr>\n",
              "    <tr>\n",
              "      <th>16799</th>\n",
              "      <td>6000969</td>\n",
              "      <td>1</td>\n",
              "    </tr>\n",
              "    <tr>\n",
              "      <th>16800</th>\n",
              "      <td>6000400</td>\n",
              "      <td>1</td>\n",
              "    </tr>\n",
              "  </tbody>\n",
              "</table>\n",
              "<p>16801 rows × 2 columns</p>\n",
              "</div>"
            ],
            "text/plain": [
              "       material  qtd_vendas\n",
              "0       6000110           1\n",
              "1       6000129           1\n",
              "2       6000163           1\n",
              "3       6000172           1\n",
              "4       6000892           1\n",
              "...         ...         ...\n",
              "16796   6000768           1\n",
              "16797   6000839           1\n",
              "16798   6000843           1\n",
              "16799   6000969           1\n",
              "16800   6000400           1\n",
              "\n",
              "[16801 rows x 2 columns]"
            ]
          },
          "metadata": {
            "tags": []
          },
          "execution_count": 27
        }
      ]
    },
    {
      "cell_type": "markdown",
      "metadata": {
        "id": "yExe9Cado7r4"
      },
      "source": [
        "### Agrupando dados"
      ]
    },
    {
      "cell_type": "markdown",
      "metadata": {
        "id": "i2Qub1qhpA29"
      },
      "source": [
        "dataframe.groupby(**lista**).agg(**dict**). reset_index()"
      ]
    },
    {
      "cell_type": "markdown",
      "metadata": {
        "id": "aeoD-fdEpcls"
      },
      "source": [
        "1. **lista** -> [colunas a serem agrupadas]\n",
        "2. **dict** -> {'coluna_x':'funcao'}"
      ]
    },
    {
      "cell_type": "code",
      "metadata": {
        "id": "o_UIK4X9sQAs"
      },
      "source": [
        "df_vendas = df_vendas.groupby(['material']).agg({'qtd_vendas':'sum'}).reset_index(drop=False)"
      ],
      "execution_count": null,
      "outputs": []
    },
    {
      "cell_type": "code",
      "metadata": {
        "id": "93GabpBPsS0B"
      },
      "source": [
        "df_pedidos = df_pedidos.groupby(['material']).agg({'qtd_pedido':'sum', 'qtd_estoque':'sum'}).reset_index(drop=False)"
      ],
      "execution_count": null,
      "outputs": []
    },
    {
      "cell_type": "code",
      "metadata": {
        "id": "R47UHz9Qti8B",
        "outputId": "2ee46c73-c66c-4057-f5de-532dacb5ba18",
        "colab": {
          "base_uri": "https://localhost:8080/",
          "height": 424
        }
      },
      "source": [
        "df_pedidos"
      ],
      "execution_count": null,
      "outputs": [
        {
          "output_type": "execute_result",
          "data": {
            "text/html": [
              "<div>\n",
              "<style scoped>\n",
              "    .dataframe tbody tr th:only-of-type {\n",
              "        vertical-align: middle;\n",
              "    }\n",
              "\n",
              "    .dataframe tbody tr th {\n",
              "        vertical-align: top;\n",
              "    }\n",
              "\n",
              "    .dataframe thead th {\n",
              "        text-align: right;\n",
              "    }\n",
              "</style>\n",
              "<table border=\"1\" class=\"dataframe\">\n",
              "  <thead>\n",
              "    <tr style=\"text-align: right;\">\n",
              "      <th></th>\n",
              "      <th>material</th>\n",
              "      <th>qtd_pedido</th>\n",
              "      <th>qtd_estoque</th>\n",
              "    </tr>\n",
              "  </thead>\n",
              "  <tbody>\n",
              "    <tr>\n",
              "      <th>0</th>\n",
              "      <td>4000010</td>\n",
              "      <td>250</td>\n",
              "      <td>25</td>\n",
              "    </tr>\n",
              "    <tr>\n",
              "      <th>1</th>\n",
              "      <td>4000014</td>\n",
              "      <td>60</td>\n",
              "      <td>6</td>\n",
              "    </tr>\n",
              "    <tr>\n",
              "      <th>2</th>\n",
              "      <td>4000019</td>\n",
              "      <td>7</td>\n",
              "      <td>0</td>\n",
              "    </tr>\n",
              "    <tr>\n",
              "      <th>3</th>\n",
              "      <td>4000020</td>\n",
              "      <td>9</td>\n",
              "      <td>0</td>\n",
              "    </tr>\n",
              "    <tr>\n",
              "      <th>4</th>\n",
              "      <td>4000047</td>\n",
              "      <td>50</td>\n",
              "      <td>5</td>\n",
              "    </tr>\n",
              "    <tr>\n",
              "      <th>...</th>\n",
              "      <td>...</td>\n",
              "      <td>...</td>\n",
              "      <td>...</td>\n",
              "    </tr>\n",
              "    <tr>\n",
              "      <th>938</th>\n",
              "      <td>6001069</td>\n",
              "      <td>12</td>\n",
              "      <td>1</td>\n",
              "    </tr>\n",
              "    <tr>\n",
              "      <th>939</th>\n",
              "      <td>6001074</td>\n",
              "      <td>42</td>\n",
              "      <td>4</td>\n",
              "    </tr>\n",
              "    <tr>\n",
              "      <th>940</th>\n",
              "      <td>6001075</td>\n",
              "      <td>2</td>\n",
              "      <td>0</td>\n",
              "    </tr>\n",
              "    <tr>\n",
              "      <th>941</th>\n",
              "      <td>6001078</td>\n",
              "      <td>16</td>\n",
              "      <td>1</td>\n",
              "    </tr>\n",
              "    <tr>\n",
              "      <th>942</th>\n",
              "      <td>6001415</td>\n",
              "      <td>4</td>\n",
              "      <td>0</td>\n",
              "    </tr>\n",
              "  </tbody>\n",
              "</table>\n",
              "<p>943 rows × 3 columns</p>\n",
              "</div>"
            ],
            "text/plain": [
              "     material  qtd_pedido  qtd_estoque\n",
              "0     4000010         250           25\n",
              "1     4000014          60            6\n",
              "2     4000019           7            0\n",
              "3     4000020           9            0\n",
              "4     4000047          50            5\n",
              "..        ...         ...          ...\n",
              "938   6001069          12            1\n",
              "939   6001074          42            4\n",
              "940   6001075           2            0\n",
              "941   6001078          16            1\n",
              "942   6001415           4            0\n",
              "\n",
              "[943 rows x 3 columns]"
            ]
          },
          "metadata": {
            "tags": []
          },
          "execution_count": 30
        }
      ]
    },
    {
      "cell_type": "markdown",
      "metadata": {
        "id": "ORFgI0cYg3xv"
      },
      "source": [
        "#Correlação de Tabelas"
      ]
    },
    {
      "cell_type": "markdown",
      "metadata": {
        "id": "fscxYN2piXF1"
      },
      "source": [
        "pd.merge( **dataframe1**, **dataframe2**, on = **lista**, how = **string específica**)"
      ]
    },
    {
      "cell_type": "markdown",
      "metadata": {
        "id": "4iXs0tOsivIo"
      },
      "source": [
        "1. **dataframe1** -> tabela da esquerda\n",
        "1. **dataframe2** - > tabela da direita\n",
        "3. **lista** = ['colunas em comum']\n",
        "4. **string especifica** -> how = método da correlação: 'left', 'right', 'inner'(ponto em comum), 'outer' (tudo)"
      ]
    },
    {
      "cell_type": "code",
      "metadata": {
        "id": "Y0ohsbd2juk3"
      },
      "source": [
        "df_relatorio = pd.merge(df_materiais, df_pedidos, on = ['material'], how = 'left')"
      ],
      "execution_count": null,
      "outputs": []
    },
    {
      "cell_type": "code",
      "metadata": {
        "id": "w0zmu2qZnZtZ"
      },
      "source": [
        "df_relatorio = pd.merge(df_relatorio, df_vendas, on = ['material'], how = 'left')"
      ],
      "execution_count": null,
      "outputs": []
    },
    {
      "cell_type": "code",
      "metadata": {
        "id": "IiqdVTZtnra6",
        "outputId": "ec251999-0159-40ca-8728-251064656c08",
        "colab": {
          "base_uri": "https://localhost:8080/",
          "height": 424
        }
      },
      "source": [
        "df_relatorio"
      ],
      "execution_count": null,
      "outputs": [
        {
          "output_type": "execute_result",
          "data": {
            "text/html": [
              "<div>\n",
              "<style scoped>\n",
              "    .dataframe tbody tr th:only-of-type {\n",
              "        vertical-align: middle;\n",
              "    }\n",
              "\n",
              "    .dataframe tbody tr th {\n",
              "        vertical-align: top;\n",
              "    }\n",
              "\n",
              "    .dataframe thead th {\n",
              "        text-align: right;\n",
              "    }\n",
              "</style>\n",
              "<table border=\"1\" class=\"dataframe\">\n",
              "  <thead>\n",
              "    <tr style=\"text-align: right;\">\n",
              "      <th></th>\n",
              "      <th>material</th>\n",
              "      <th>qtd_pedido</th>\n",
              "      <th>qtd_estoque</th>\n",
              "      <th>qtd_vendas</th>\n",
              "    </tr>\n",
              "  </thead>\n",
              "  <tbody>\n",
              "    <tr>\n",
              "      <th>0</th>\n",
              "      <td>4000010</td>\n",
              "      <td>250.0</td>\n",
              "      <td>25.0</td>\n",
              "      <td>NaN</td>\n",
              "    </tr>\n",
              "    <tr>\n",
              "      <th>1</th>\n",
              "      <td>4000013</td>\n",
              "      <td>NaN</td>\n",
              "      <td>NaN</td>\n",
              "      <td>6.0</td>\n",
              "    </tr>\n",
              "    <tr>\n",
              "      <th>2</th>\n",
              "      <td>4000014</td>\n",
              "      <td>60.0</td>\n",
              "      <td>6.0</td>\n",
              "      <td>1.0</td>\n",
              "    </tr>\n",
              "    <tr>\n",
              "      <th>3</th>\n",
              "      <td>4000015</td>\n",
              "      <td>NaN</td>\n",
              "      <td>NaN</td>\n",
              "      <td>8.0</td>\n",
              "    </tr>\n",
              "    <tr>\n",
              "      <th>4</th>\n",
              "      <td>4000016</td>\n",
              "      <td>NaN</td>\n",
              "      <td>NaN</td>\n",
              "      <td>3.0</td>\n",
              "    </tr>\n",
              "    <tr>\n",
              "      <th>...</th>\n",
              "      <td>...</td>\n",
              "      <td>...</td>\n",
              "      <td>...</td>\n",
              "      <td>...</td>\n",
              "    </tr>\n",
              "    <tr>\n",
              "      <th>4577</th>\n",
              "      <td>6001409</td>\n",
              "      <td>NaN</td>\n",
              "      <td>NaN</td>\n",
              "      <td>2.0</td>\n",
              "    </tr>\n",
              "    <tr>\n",
              "      <th>4578</th>\n",
              "      <td>6001410</td>\n",
              "      <td>NaN</td>\n",
              "      <td>NaN</td>\n",
              "      <td>NaN</td>\n",
              "    </tr>\n",
              "    <tr>\n",
              "      <th>4579</th>\n",
              "      <td>6001411</td>\n",
              "      <td>NaN</td>\n",
              "      <td>NaN</td>\n",
              "      <td>NaN</td>\n",
              "    </tr>\n",
              "    <tr>\n",
              "      <th>4580</th>\n",
              "      <td>6001412</td>\n",
              "      <td>NaN</td>\n",
              "      <td>NaN</td>\n",
              "      <td>NaN</td>\n",
              "    </tr>\n",
              "    <tr>\n",
              "      <th>4581</th>\n",
              "      <td>6001415</td>\n",
              "      <td>4.0</td>\n",
              "      <td>0.0</td>\n",
              "      <td>14.0</td>\n",
              "    </tr>\n",
              "  </tbody>\n",
              "</table>\n",
              "<p>4582 rows × 4 columns</p>\n",
              "</div>"
            ],
            "text/plain": [
              "      material  qtd_pedido  qtd_estoque  qtd_vendas\n",
              "0      4000010       250.0         25.0         NaN\n",
              "1      4000013         NaN          NaN         6.0\n",
              "2      4000014        60.0          6.0         1.0\n",
              "3      4000015         NaN          NaN         8.0\n",
              "4      4000016         NaN          NaN         3.0\n",
              "...        ...         ...          ...         ...\n",
              "4577   6001409         NaN          NaN         2.0\n",
              "4578   6001410         NaN          NaN         NaN\n",
              "4579   6001411         NaN          NaN         NaN\n",
              "4580   6001412         NaN          NaN         NaN\n",
              "4581   6001415         4.0          0.0        14.0\n",
              "\n",
              "[4582 rows x 4 columns]"
            ]
          },
          "metadata": {
            "tags": []
          },
          "execution_count": 33
        }
      ]
    },
    {
      "cell_type": "markdown",
      "metadata": {
        "id": "Z0grSyyNoKot"
      },
      "source": [
        "##Tratamento pós correlação"
      ]
    },
    {
      "cell_type": "markdown",
      "metadata": {
        "id": "WVPr29iloS0f"
      },
      "source": [
        "dataframe.fillna(**variavel**)\n",
        "\n",
        "dataframe['coluna'].fillna(**variavel**)\n",
        "\n",
        "- Altera o valor das tuplas vazias/NaN"
      ]
    },
    {
      "cell_type": "markdown",
      "metadata": {
        "id": "nnWgeFwUor6O"
      },
      "source": [
        "1. **variavel** -> int, float, string, bool"
      ]
    },
    {
      "cell_type": "code",
      "metadata": {
        "id": "GuEz6PUCoy-p"
      },
      "source": [
        "df_relatorio = df_relatorio.fillna(0)"
      ],
      "execution_count": null,
      "outputs": []
    },
    {
      "cell_type": "code",
      "metadata": {
        "id": "wtkp2Y-PpqVl"
      },
      "source": [
        "df_relatorio[['qtd_pedido', 'qtd_estoque', 'qtd_vendas']] = df_relatorio[['qtd_pedido', 'qtd_estoque', 'qtd_vendas']].astype(int)\n",
        " #tranformando valores float para inteiro"
      ],
      "execution_count": null,
      "outputs": []
    },
    {
      "cell_type": "markdown",
      "metadata": {
        "id": "0A_7dPqmqn_S"
      },
      "source": [
        "#Regras de Negócio"
      ]
    },
    {
      "cell_type": "markdown",
      "metadata": {
        "id": "djw3X0thsFNr"
      },
      "source": [
        "##Operações entre colunas sem condicional"
      ]
    },
    {
      "cell_type": "markdown",
      "metadata": {
        "id": "pzzHM_UtsL3-"
      },
      "source": [
        "dataframe['coluna_x'] **operador** dataframe['coluna_y']\n"
      ]
    },
    {
      "cell_type": "markdown",
      "metadata": {
        "id": "8zuIXX5rseNS"
      },
      "source": [
        "1. **operador** : + - * / % **"
      ]
    },
    {
      "cell_type": "code",
      "metadata": {
        "id": "s74hiQwuqz9H"
      },
      "source": [
        "df_relatorio['qtd_loja'] = df_relatorio['qtd_pedido'] + df_relatorio['qtd_estoque']\n",
        "#criação de nova coluna que armazenará a soma entre as duas colunas"
      ],
      "execution_count": null,
      "outputs": []
    },
    {
      "cell_type": "code",
      "metadata": {
        "id": "iOhIiu8etRdy"
      },
      "source": [
        "df_relatorio = df_relatorio[['material', 'qtd_loja', 'qtd_vendas']].copy()"
      ],
      "execution_count": null,
      "outputs": []
    },
    {
      "cell_type": "markdown",
      "metadata": {
        "id": "_qPJ2wmPuzON"
      },
      "source": [
        "##Operações entre coluna com condicional"
      ]
    },
    {
      "cell_type": "markdown",
      "metadata": {
        "id": "uWpImWGUu5_6"
      },
      "source": [
        "def funcao(parametro):\n",
        "\n",
        "dataframe.apply(lambda row: funcao(row['**coluna**']), axis = '**columns**' ou 1)"
      ]
    },
    {
      "cell_type": "code",
      "metadata": {
        "id": "f14LM-kFw2vl"
      },
      "source": [
        "def calcular_porcentagem(loja, vendas):\n",
        "  if (vendas != 0):\n",
        "    return round(loja/vendas, 2)\n",
        "  elif (loja != 0):\n",
        "    return 1.2\n",
        "  else:\n",
        "    return 0"
      ],
      "execution_count": null,
      "outputs": []
    },
    {
      "cell_type": "code",
      "metadata": {
        "id": "cXYOzUQUt7wa"
      },
      "source": [
        "df_relatorio['porcentagem'] = df_relatorio.apply(lambda row: calcular_porcentagem(row['qtd_loja'], row['qtd_vendas']), axis = 'columns')"
      ],
      "execution_count": null,
      "outputs": []
    },
    {
      "cell_type": "code",
      "metadata": {
        "id": "RfFWKv4XzTl6"
      },
      "source": [
        "def definir_status(porcentagem):\n",
        "  if (porcentagem >= 1.2):\n",
        "    return 'alerta'\n",
        "  else: \n",
        "    return ''"
      ],
      "execution_count": null,
      "outputs": []
    },
    {
      "cell_type": "code",
      "metadata": {
        "id": "CpEDt4V72Rt1"
      },
      "source": [
        "df_relatorio['status'] = df_relatorio.apply(lambda row: definir_status(row['porcentagem']), axis = 'columns')"
      ],
      "execution_count": null,
      "outputs": []
    },
    {
      "cell_type": "code",
      "metadata": {
        "id": "_SWY5-hbTQcG"
      },
      "source": [
        "df_relatorio"
      ],
      "execution_count": null,
      "outputs": []
    },
    {
      "cell_type": "markdown",
      "metadata": {
        "id": "i4c6E-OJ3Ujr"
      },
      "source": [
        "##Ordenando colunas"
      ]
    },
    {
      "cell_type": "markdown",
      "metadata": {
        "id": "CdZzrsi_3eda"
      },
      "source": [
        "dataframe.sort_values(**lista**, ascending = **lista**"
      ]
    },
    {
      "cell_type": "markdown",
      "metadata": {
        "id": "Q6oeVip33njH"
      },
      "source": [
        "1. **lista** -> [colunas a serem ordenadas]\n",
        "2. **lista** -> [booleanos]\n",
        "\n",
        "True = ordena do menor para o maior\n",
        "False = ordena do maior para o menor"
      ]
    },
    {
      "cell_type": "code",
      "metadata": {
        "id": "M1eJJj252vyY"
      },
      "source": [
        "#ordernar valores\n",
        "df_relatorio = df_relatorio.sort_values('qtd_loja', ascending = [False])"
      ],
      "execution_count": null,
      "outputs": []
    },
    {
      "cell_type": "markdown",
      "metadata": {
        "id": "uqwUF2dt4bVn"
      },
      "source": [
        "##Filtro"
      ]
    },
    {
      "cell_type": "markdown",
      "metadata": {
        "id": "nbghKnbk4jni"
      },
      "source": [
        "dataframe[(dataframe['coluna_x']>0)]\n",
        "\n",
        "and -> &\n",
        "or -> |\n",
        "not -> ~"
      ]
    },
    {
      "cell_type": "code",
      "metadata": {
        "id": "QxPpQLBB3Yiv"
      },
      "source": [
        "df_relatorio_reduzido = df_relatorio[(df_relatorio['status'] != 'alerta') & (df_relatorio['qtd_loja'] > 0)]"
      ],
      "execution_count": null,
      "outputs": []
    },
    {
      "cell_type": "code",
      "metadata": {
        "id": "KiE4dGzT3CHP"
      },
      "source": [
        "df_relatorio_reduzido"
      ],
      "execution_count": null,
      "outputs": []
    },
    {
      "cell_type": "markdown",
      "metadata": {
        "id": "gaMYecZR2-6T"
      },
      "source": [
        "#Exportando Dados"
      ]
    },
    {
      "cell_type": "markdown",
      "metadata": {
        "id": "H0M81QEw6S13"
      },
      "source": [
        "##Exportando em formato .CSV ou .TXT"
      ]
    },
    {
      "cell_type": "markdown",
      "metadata": {
        "id": "A4ERmNdU6FDk"
      },
      "source": [
        "dataframe.to_csv(**string**, sep = **string**)"
      ]
    },
    {
      "cell_type": "markdown",
      "metadata": {
        "id": "bIcsQLRq64C4"
      },
      "source": [
        "1. **string** -> nome do arquivo\n",
        "2. **string** -> string que vai separar os dados"
      ]
    },
    {
      "cell_type": "code",
      "metadata": {
        "id": "fwIQtvLG6yQH"
      },
      "source": [
        "df_relatorio_reduzido.to_csv('relatorio_final.csv', sep = ';')"
      ],
      "execution_count": null,
      "outputs": []
    },
    {
      "cell_type": "markdown",
      "metadata": {
        "id": "p6YdTRhJ77Ge"
      },
      "source": [
        "##Exportando em formato .XLSX"
      ]
    },
    {
      "cell_type": "markdown",
      "metadata": {
        "id": "Jh1g_UrA7_pM"
      },
      "source": [
        "writer = pd.ExcelWriter(**string**)\n",
        "\n",
        "dataframe.to_excel(writer, sheet_name = **string**, index = **bool**)\n",
        "\n",
        "writer.save()"
      ]
    },
    {
      "cell_type": "code",
      "metadata": {
        "id": "-V9Rm-bF8Yd5"
      },
      "source": [
        "writer = pd.ExcelWriter('Relatório Final.xlsx')\n",
        "df_relatorio.to_excel(writer, sheet_name = 'relatorio', index = False)\n",
        "df_relatorio_reduzido.to_excel(writer, sheet_name = 'reduzido', index = False)\n",
        "writer.save()\n"
      ],
      "execution_count": null,
      "outputs": []
    },
    {
      "cell_type": "code",
      "metadata": {
        "id": "1LSxdsZf9vpy"
      },
      "source": [
        "#para gerar um executável: file - Download .py.\n",
        "#colocar na mesma pasta onde estão os arquivos utilizados \n",
        "#tem que ter o python instalado na máquina para dar certo"
      ],
      "execution_count": null,
      "outputs": []
    }
  ]
}